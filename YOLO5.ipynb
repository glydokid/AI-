{
  "nbformat": 4,
  "nbformat_minor": 0,
  "metadata": {
    "colab": {
      "name": "YOLO5",
      "provenance": [],
      "authorship_tag": "ABX9TyMLIQUdSAwG+Lw06gpzQChr"
    },
    "kernelspec": {
      "name": "python3",
      "display_name": "Python 3"
    },
    "language_info": {
      "name": "python"
    },
    "accelerator": "GPU"
  },
  "cells": [
    {
      "cell_type": "code",
      "metadata": {
        "id": "Hy5o32KM5uXi"
      },
      "source": [
        "!curl -L \"https://public.roboflow.com/ds/kWMeUcWcl6?key=DzvTv5bXEx\" > roboflow.zip; unzip roboflow.zip; rm roboflow.zip\n",
        "#데이터셋 불러오기"
      ],
      "execution_count": null,
      "outputs": []
    },
    {
      "cell_type": "code",
      "metadata": {
        "id": "62ac6UfN7GCc"
      },
      "source": [
        "%cd /content\n",
        "!git clone https://github.com/ultralytics/yolov5.git\n",
        "#YOLO5 설치"
      ],
      "execution_count": null,
      "outputs": []
    },
    {
      "cell_type": "code",
      "metadata": {
        "id": "lNYXxGx07KvF"
      },
      "source": [
        "%cd /content/yolov5/\n",
        "! pip install -r requirements.txt\n",
        "#필요한 파일 설치"
      ],
      "execution_count": null,
      "outputs": []
    },
    {
      "cell_type": "code",
      "metadata": {
        "id": "BOmvxW_T7Nh_"
      },
      "source": [
        "%cat /content/dataset/data.yaml\n",
        "#데이터 정보 읽기"
      ],
      "execution_count": null,
      "outputs": []
    },
    {
      "cell_type": "code",
      "metadata": {
        "id": "vWwvYZh67Tri"
      },
      "source": [
        "%cd /\n",
        "from glob import glob\n",
        "\n",
        "img_list = glob('/content/dataset/export/images/*.jpg')\n",
        "\n",
        "print(len(img_list))\n",
        "#사진 갯수파악"
      ],
      "execution_count": null,
      "outputs": []
    },
    {
      "cell_type": "code",
      "metadata": {
        "id": "1oqCsR2w7WmQ"
      },
      "source": [
        "from sklearn.model_selection import train_test_split\n",
        "\n",
        "train_img_list, val_img_list = train_test_split(img_list, test_size=0.2, random_state=2000)\n",
        "\n",
        "print(len(train_img_list), len(val_img_list))\n",
        "#TarinSet, TestSet 나누기"
      ],
      "execution_count": null,
      "outputs": []
    },
    {
      "cell_type": "code",
      "metadata": {
        "id": "j81EAgbe7ab9"
      },
      "source": [
        "with open('content/dataset/train.txt', 'w') as f:\n",
        "  f.write('\\n'.join(train_img_list)+'\\n')\n",
        "\n",
        "with open('content/dataset/val.txt', 'w') as f:\n",
        "  f.write('\\n'.join(val_img_list)+'\\n')\n",
        "  #TarinSet, TestSet을 txt파일로 저장"
      ],
      "execution_count": null,
      "outputs": []
    },
    {
      "cell_type": "code",
      "metadata": {
        "id": "DG6R6LiZ7gfY"
      },
      "source": [
        "import yaml\n",
        "\n",
        "with open('/content/dataset/data.yaml', 'r') as f:\n",
        "  data = yaml.load(f)\n",
        "\n",
        "print(data)\n",
        "\n",
        "data['train'] = '/content/dataset/train.txt'\n",
        "data['val'] = '/content/dataset/val.txt'\n",
        "\n",
        "with open('/content/dataset/data.yaml', 'w') as f:\n",
        "  yaml.dump(data, f)\n",
        "\n",
        "print(data)\n",
        "#yaml파일에 TarinSet, TestSet삽입"
      ],
      "execution_count": null,
      "outputs": []
    },
    {
      "cell_type": "code",
      "metadata": {
        "id": "JvhyiAzF7n36"
      },
      "source": [
        "%cd /content/yolov5/\n",
        "\n",
        "!python train.py --img 416 --batch 16 --epochs 50 --data /content/dataset/data.yaml --cfg ./models/yolov5s.yaml --weights yolov5s.pt --name gun_yolov5s_results\n",
        "#학습"
      ],
      "execution_count": null,
      "outputs": []
    },
    {
      "cell_type": "code",
      "metadata": {
        "id": "rodIPub3JArd"
      },
      "source": [
        "from IPython.display import Image\n",
        "import os\n",
        "\n",
        "val_img_path = val_img_list[0]\n",
        "\n",
        "!python detect.py --weights /content/yolov5/runs/train/gun_yolov5s_results/weights/best.pt --img 416 --conf 0.5 --source \"{val_img_path}\"\n",
        "#테스트"
      ],
      "execution_count": null,
      "outputs": []
    },
    {
      "cell_type": "code",
      "metadata": {
        "id": "nRCJzQa3J3Ub"
      },
      "source": [
        "import torch\n",
        "from IPython.display import Image, clear_output  # to display images\n",
        "\n",
        "clear_output()\n",
        "print('Setup complete. Using torch %s %s' % (torch.__version__, torch.cuda.get_device_properties(0) if torch.cuda.is_available() else 'CPU'))"
      ],
      "execution_count": null,
      "outputs": []
    },
    {
      "cell_type": "code",
      "metadata": {
        "id": "HSn6c4wiJ7rK"
      },
      "source": [
        "from google.colab import files \n",
        "uploaded = files.upload()\n",
        "#파일올리기"
      ],
      "execution_count": null,
      "outputs": []
    },
    {
      "cell_type": "code",
      "metadata": {
        "id": "1WKwoCpgLji3"
      },
      "source": [
        "!python detect.py --weights /content/yolov5/runs/train/gun_yolov5s_results/weights/best.pt  --source /content/yolov5/pistol.mp4\n",
        "#영상학습"
      ],
      "execution_count": null,
      "outputs": []
    }
  ]
}